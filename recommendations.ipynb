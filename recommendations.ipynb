{
  "nbformat": 4,
  "nbformat_minor": 5,
  "metadata": {
    "kernelspec": {
      "display_name": "Python 3",
      "language": "python",
      "name": "python3"
    },
    "language_info": {
      "codemirror_mode": {
        "name": "ipython",
        "version": 3
      },
      "file_extension": ".py",
      "mimetype": "text/x-python",
      "name": "python",
      "nbconvert_exporter": "python",
      "pygments_lexer": "ipython3",
      "version": "3.8.8"
    },
    "colab": {
      "name": "recommendations.ipynb",
      "provenance": []
    }
  },
  "cells": [
    {
      "cell_type": "markdown",
      "metadata": {
        "id": "Mx1BWlvVy-pm"
      },
      "source": [
        "## **RECOMMENDER SYSTEM**"
      ],
      "id": "Mx1BWlvVy-pm"
    },
    {
      "cell_type": "markdown",
      "metadata": {
        "id": "Q1c2myQMrZYq"
      },
      "source": [
        "**Importing Libraries**"
      ],
      "id": "Q1c2myQMrZYq"
    },
    {
      "cell_type": "code",
      "metadata": {
        "id": "english-stick"
      },
      "source": [
        "import pandas as pd\n",
        "import numpy as np\n",
        "import matplotlib.pyplot as plt\n",
        "import seaborn as sns\n",
        "import re\n",
        "import string\n",
        "import nltk\n",
        "from sklearn.feature_extraction.text import CountVectorizer\n",
        "from sklearn.metrics.pairwise import cosine_similarity\n",
        "from operator import itemgetter"
      ],
      "id": "english-stick",
      "execution_count": 1,
      "outputs": []
    },
    {
      "cell_type": "markdown",
      "metadata": {
        "id": "VzpF4YCxrjMl"
      },
      "source": [
        "**Fetching Dataset**"
      ],
      "id": "VzpF4YCxrjMl"
    },
    {
      "cell_type": "code",
      "metadata": {
        "id": "devoted-pregnancy"
      },
      "source": [
        "data=pd.read_csv(\"/content/UCoursera_Courses.csv\")\n",
        "data.drop([\"Unnamed: 0\"],axis=1,inplace=True) "
      ],
      "id": "devoted-pregnancy",
      "execution_count": 2,
      "outputs": []
    },
    {
      "cell_type": "markdown",
      "metadata": {
        "id": "gbOAwhZLrqeR"
      },
      "source": [
        "**Cleaning the dataset**"
      ],
      "id": "gbOAwhZLrqeR"
    },
    {
      "cell_type": "code",
      "metadata": {
        "colab": {
          "base_uri": "https://localhost:8080/"
        },
        "id": "hIkQlPgDrybS",
        "outputId": "ada299a2-69a4-4ae0-8248-7e2096b6fa16"
      },
      "source": [
        "#removing stopwords such as \"of, is, the, etc.\"\n",
        "nltk.download('stopwords')\n",
        "stopwords=nltk.corpus.stopwords.words('english')\n",
        "def clean_text(txt):\n",
        "    txt=\"\".join([c for c in txt if c not in string.punctuation])\n",
        "    tokens=re.split('\\W+',txt)\n",
        "    txt=[word for word in tokens if word not in stopwords]\n",
        "    return txt"
      ],
      "id": "hIkQlPgDrybS",
      "execution_count": 3,
      "outputs": [
        {
          "output_type": "stream",
          "name": "stdout",
          "text": [
            "[nltk_data] Downloading package stopwords to /root/nltk_data...\n",
            "[nltk_data]   Package stopwords is already up-to-date!\n"
          ]
        }
      ]
    },
    {
      "cell_type": "code",
      "metadata": {
        "colab": {
          "base_uri": "https://localhost:8080/"
        },
        "id": "gKu9o9Z3rzDn",
        "outputId": "9de009a0-b987-4873-8843-634a2ba5fb1d"
      },
      "source": [
        "#breaking word into its normal form\n",
        "nltk.download('wordnet')\n",
        "wn=nltk.WordNetLemmatizer()\n",
        "def lemm(token_txt):\n",
        "    text=[wn.lemmatize(word) for word in token_txt]\n",
        "    return text"
      ],
      "id": "gKu9o9Z3rzDn",
      "execution_count": 4,
      "outputs": [
        {
          "output_type": "stream",
          "name": "stdout",
          "text": [
            "[nltk_data] Downloading package wordnet to /root/nltk_data...\n",
            "[nltk_data]   Package wordnet is already up-to-date!\n"
          ]
        }
      ]
    },
    {
      "cell_type": "markdown",
      "metadata": {
        "id": "y0GzTbMwr_u7"
      },
      "source": [
        "**Calling upper functions for the columns of the dataset**"
      ],
      "id": "y0GzTbMwr_u7"
    },
    {
      "cell_type": "code",
      "metadata": {
        "id": "proud-onion"
      },
      "source": [
        "# data['course_title_l']= data['course_title'].apply(lambda x: remove(x))\n",
        "# data['course_organization_l']= data['course_organization'].apply(lambda x: remove(x))\n",
        "data['course_title_l']=data['course_title'].apply(lambda x:clean_text(x))\n",
        "data['course_organization_l']= data['course_organization'].apply(lambda x: clean_text(x))\n",
        "data['course_title_l']=data['course_title_l'].apply(lambda x: lemm(x))\n",
        "data['course_organization_l']=data['course_organization_l'].apply(lambda x: lemm(x))"
      ],
      "id": "proud-onion",
      "execution_count": 5,
      "outputs": []
    },
    {
      "cell_type": "code",
      "metadata": {
        "id": "wicked-headline"
      },
      "source": [
        "data['course_Certificate_type']=data['course_Certificate_type'].mask(data['course_Certificate_type']=='PROFESSIONAL CERTIFICATE','PROFESSIONAL_CERTIFICATE')"
      ],
      "id": "wicked-headline",
      "execution_count": 6,
      "outputs": []
    },
    {
      "cell_type": "code",
      "metadata": {
        "colab": {
          "base_uri": "https://localhost:8080/",
          "height": 469
        },
        "id": "78nTfjFyu6kL",
        "outputId": "22d028bd-20a7-4f0c-b3e0-a03b7fe51037"
      },
      "source": [
        "data.head()"
      ],
      "id": "78nTfjFyu6kL",
      "execution_count": 7,
      "outputs": [
        {
          "output_type": "execute_result",
          "data": {
            "text/html": [
              "<div>\n",
              "<style scoped>\n",
              "    .dataframe tbody tr th:only-of-type {\n",
              "        vertical-align: middle;\n",
              "    }\n",
              "\n",
              "    .dataframe tbody tr th {\n",
              "        vertical-align: top;\n",
              "    }\n",
              "\n",
              "    .dataframe thead th {\n",
              "        text-align: right;\n",
              "    }\n",
              "</style>\n",
              "<table border=\"1\" class=\"dataframe\">\n",
              "  <thead>\n",
              "    <tr style=\"text-align: right;\">\n",
              "      <th></th>\n",
              "      <th>course_title</th>\n",
              "      <th>course_organization</th>\n",
              "      <th>course_Certificate_type</th>\n",
              "      <th>course_rating</th>\n",
              "      <th>course_difficulty</th>\n",
              "      <th>course_students_enrolled</th>\n",
              "      <th>course_title_l</th>\n",
              "      <th>course_organization_l</th>\n",
              "    </tr>\n",
              "  </thead>\n",
              "  <tbody>\n",
              "    <tr>\n",
              "      <th>0</th>\n",
              "      <td>(ISC)² Systems Security Certified Practitioner...</td>\n",
              "      <td>(ISC)²</td>\n",
              "      <td>SPECIALIZATION</td>\n",
              "      <td>4.7</td>\n",
              "      <td>Beginner</td>\n",
              "      <td>5.3k</td>\n",
              "      <td>[ISC², Systems, Security, Certified, Practitio...</td>\n",
              "      <td>[ISC²]</td>\n",
              "    </tr>\n",
              "    <tr>\n",
              "      <th>1</th>\n",
              "      <td>A Crash Course in Causality:  Inferring Causal...</td>\n",
              "      <td>University of Pennsylvania</td>\n",
              "      <td>COURSE</td>\n",
              "      <td>4.7</td>\n",
              "      <td>Intermediate</td>\n",
              "      <td>17k</td>\n",
              "      <td>[A, Crash, Course, Causality, Inferring, Causa...</td>\n",
              "      <td>[University, Pennsylvania]</td>\n",
              "    </tr>\n",
              "    <tr>\n",
              "      <th>2</th>\n",
              "      <td>A Crash Course in Data Science</td>\n",
              "      <td>Johns Hopkins University</td>\n",
              "      <td>COURSE</td>\n",
              "      <td>4.5</td>\n",
              "      <td>Mixed</td>\n",
              "      <td>130k</td>\n",
              "      <td>[A, Crash, Course, Data, Science]</td>\n",
              "      <td>[Johns, Hopkins, University]</td>\n",
              "    </tr>\n",
              "    <tr>\n",
              "      <th>3</th>\n",
              "      <td>A Law Student's Toolkit</td>\n",
              "      <td>Yale University</td>\n",
              "      <td>COURSE</td>\n",
              "      <td>4.7</td>\n",
              "      <td>Mixed</td>\n",
              "      <td>91k</td>\n",
              "      <td>[A, Law, Students, Toolkit]</td>\n",
              "      <td>[Yale, University]</td>\n",
              "    </tr>\n",
              "    <tr>\n",
              "      <th>4</th>\n",
              "      <td>A Life of Happiness and Fulfillment</td>\n",
              "      <td>Indian School of Business</td>\n",
              "      <td>COURSE</td>\n",
              "      <td>4.8</td>\n",
              "      <td>Mixed</td>\n",
              "      <td>320k</td>\n",
              "      <td>[A, Life, Happiness, Fulfillment]</td>\n",
              "      <td>[Indian, School, Business]</td>\n",
              "    </tr>\n",
              "  </tbody>\n",
              "</table>\n",
              "</div>"
            ],
            "text/plain": [
              "                                        course_title  ...         course_organization_l\n",
              "0  (ISC)² Systems Security Certified Practitioner...  ...                        [ISC²]\n",
              "1  A Crash Course in Causality:  Inferring Causal...  ...    [University, Pennsylvania]\n",
              "2                     A Crash Course in Data Science  ...  [Johns, Hopkins, University]\n",
              "3                            A Law Student's Toolkit  ...            [Yale, University]\n",
              "4                A Life of Happiness and Fulfillment  ...    [Indian, School, Business]\n",
              "\n",
              "[5 rows x 8 columns]"
            ]
          },
          "metadata": {},
          "execution_count": 7
        }
      ]
    },
    {
      "cell_type": "markdown",
      "metadata": {
        "id": "lOy46X4tsIxx"
      },
      "source": [
        "**Creating a soup which contains all necessary information to recommend**"
      ],
      "id": "lOy46X4tsIxx"
    },
    {
      "cell_type": "code",
      "metadata": {
        "id": "certain-works"
      },
      "source": [
        "def create_soup(x):\n",
        "    return ' '.join(x['course_title_l']) + ' ' + ' '.join(x['course_organization_l']) + ' ' + x['course_Certificate_type'] + ' ' + x['course_difficulty']\n",
        "\n",
        "data['soup'] = data.apply(create_soup, axis=1)"
      ],
      "id": "certain-works",
      "execution_count": 8,
      "outputs": []
    },
    {
      "cell_type": "markdown",
      "metadata": {
        "id": "mMix6xMGslAF"
      },
      "source": [
        "**Asking user input**"
      ],
      "id": "mMix6xMGslAF"
    },
    {
      "cell_type": "code",
      "metadata": {
        "id": "dress-council"
      },
      "source": [
        "def get_course():\n",
        "    course = input(\"What Course are you interested in?\")\n",
        "    courses = \" \".join([\"\".join(n.split()) for n in course.lower().split(',')])\n",
        "    return course\n",
        "\n",
        "def get_searchTerms():\n",
        "    searchTerms = \"\" \n",
        "    courses = get_course()\n",
        "    if courses != 'skip':\n",
        "        searchTerms = courses\n",
        "    return searchTerms"
      ],
      "id": "dress-council",
      "execution_count": 9,
      "outputs": []
    },
    {
      "cell_type": "code",
      "metadata": {
        "id": "greenhouse-cream"
      },
      "source": [
        "def make_recommendation(data=data):\n",
        "    #grabbing the new wordsoup from the user\n",
        "    searchTerms = get_searchTerms()\n",
        "    # searchTerms = remove(searchTerms)\n",
        "    searchTerms = clean_text(searchTerms)\n",
        "    searchTerms = lemm(searchTerms)\n",
        "\n",
        "    #creating a copy of the last row of the dataset, which we will use to input the user's input\n",
        "    new_row = data.iloc[-1,:].copy() \n",
        "    new_row.iloc[-1] = \" \".join(searchTerms)#adding the input to our new row\n",
        "    data = data.append(new_row) #adding the new row to the dataset\n",
        "    \n",
        "    #Vectorizing the entire matrix\n",
        "    count = CountVectorizer(stop_words='english')\n",
        "    count_matrix = count.fit_transform(data['soup'])  \n",
        "\n",
        "    #running pairwise cosine similarity \n",
        "    cosine_sim2 = cosine_similarity(count_matrix, count_matrix) #getting a similarity matrix\n",
        "    \n",
        "    #sorting cosine similarities by highest to lowest\n",
        "    sim_scores = list(enumerate(cosine_sim2[-1,:]))\n",
        "    sim_scores = sorted(sim_scores, key=lambda x: x[1], reverse=True)\n",
        "\n",
        "    print(sim_scores)\n",
        "\n",
        "    #matching the similarities to the course titles\n",
        "    ranked_titles = []\n",
        "    for i in range(1, 5):\n",
        "        indx = sim_scores[i][0]\n",
        "        if (sim_scores[i][1] != 0):\n",
        "            ranked_titles.append([data['course_title'].iloc[indx], data['course_rating'].iloc[indx], data['course_students_enrolled'].iloc[indx],data['course_Certificate_type'].iloc[indx]])\n",
        "    return ranked_titles"
      ],
      "id": "greenhouse-cream",
      "execution_count": 10,
      "outputs": []
    },
    {
      "cell_type": "code",
      "metadata": {
        "id": "roman-opportunity",
        "colab": {
          "base_uri": "https://localhost:8080/"
        },
        "outputId": "2cec8010-790f-411a-ed73-e80c31d26539"
      },
      "source": [
        "make_recommendation()"
      ],
      "id": "roman-opportunity",
      "execution_count": 11,
      "outputs": [
        {
          "output_type": "stream",
          "name": "stdout",
          "text": [
            "What Course are you interested in?data science\n",
            "[(891, 0.9999999999999998), (864, 0.6324555320336758), (54, 0.5773502691896258), (198, 0.5773502691896258), (486, 0.5773502691896258), (825, 0.5773502691896258), (55, 0.5345224838248487), (196, 0.5345224838248487), (208, 0.5345224838248487), (661, 0.5345224838248487), (687, 0.5345224838248487), (56, 0.4999999999999999), (197, 0.4999999999999999), (299, 0.4999999999999999), (368, 0.4999999999999999), (420, 0.4999999999999999), (487, 0.4999999999999999), (711, 0.4999999999999999), (199, 0.4714045207910316), (200, 0.4472135954999579), (553, 0.4472135954999579), (671, 0.4472135954999579), (2, 0.42640143271122083), (27, 0.42640143271122083), (465, 0.42640143271122083), (594, 0.42640143271122083), (811, 0.42640143271122083), (130, 0.408248290463863), (612, 0.408248290463863), (193, 0.39223227027636803), (188, 0.2886751345948129), (203, 0.2886751345948129), (788, 0.2886751345948129), (815, 0.2886751345948129), (186, 0.26726124191242434), (195, 0.26726124191242434), (202, 0.26726124191242434), (509, 0.26726124191242434), (684, 0.26726124191242434), (717, 0.26726124191242434), (150, 0.24999999999999994), (189, 0.24999999999999994), (190, 0.24999999999999994), (194, 0.24999999999999994), (201, 0.24999999999999994), (204, 0.24999999999999994), (205, 0.24999999999999994), (590, 0.24999999999999994), (610, 0.24999999999999994), (634, 0.24999999999999994), (699, 0.24999999999999994), (800, 0.24999999999999994), (814, 0.24999999999999994), (841, 0.24999999999999994), (19, 0.2357022603955158), (104, 0.2357022603955158), (138, 0.2357022603955158), (264, 0.2357022603955158), (470, 0.2357022603955158), (480, 0.2357022603955158), (485, 0.2357022603955158), (495, 0.2357022603955158), (812, 0.2357022603955158), (850, 0.2357022603955158), (58, 0.22360679774997896), (128, 0.22360679774997896), (255, 0.22360679774997896), (405, 0.22360679774997896), (473, 0.22360679774997896), (658, 0.22360679774997896), (774, 0.22360679774997896), (793, 0.22360679774997896), (80, 0.21320071635561041), (187, 0.21320071635561041), (336, 0.21320071635561041), (339, 0.21320071635561041), (516, 0.21320071635561041), (593, 0.21320071635561041), (686, 0.21320071635561041), (813, 0.21320071635561041), (192, 0.2041241452319315), (277, 0.2041241452319315), (304, 0.2041241452319315), (632, 0.2041241452319315), (89, 0.19611613513818402), (206, 0.19611613513818402), (334, 0.19611613513818402), (337, 0.19611613513818402), (338, 0.19611613513818402), (489, 0.19611613513818402), (1, 0.1889822365046136), (191, 0.1889822365046136), (389, 0.17677669529663687), (0, 0.0), (3, 0.0), (4, 0.0), (5, 0.0), (6, 0.0), (7, 0.0), (8, 0.0), (9, 0.0), (10, 0.0), (11, 0.0), (12, 0.0), (13, 0.0), (14, 0.0), (15, 0.0), (16, 0.0), (17, 0.0), (18, 0.0), (20, 0.0), (21, 0.0), (22, 0.0), (23, 0.0), (24, 0.0), (25, 0.0), (26, 0.0), (28, 0.0), (29, 0.0), (30, 0.0), (31, 0.0), (32, 0.0), (33, 0.0), (34, 0.0), (35, 0.0), (36, 0.0), (37, 0.0), (38, 0.0), (39, 0.0), (40, 0.0), (41, 0.0), (42, 0.0), (43, 0.0), (44, 0.0), (45, 0.0), (46, 0.0), (47, 0.0), (48, 0.0), (49, 0.0), (50, 0.0), (51, 0.0), (52, 0.0), (53, 0.0), (57, 0.0), (59, 0.0), (60, 0.0), (61, 0.0), (62, 0.0), (63, 0.0), (64, 0.0), (65, 0.0), (66, 0.0), (67, 0.0), (68, 0.0), (69, 0.0), (70, 0.0), (71, 0.0), (72, 0.0), (73, 0.0), (74, 0.0), (75, 0.0), (76, 0.0), (77, 0.0), (78, 0.0), (79, 0.0), (81, 0.0), (82, 0.0), (83, 0.0), (84, 0.0), (85, 0.0), (86, 0.0), (87, 0.0), (88, 0.0), (90, 0.0), (91, 0.0), (92, 0.0), (93, 0.0), (94, 0.0), (95, 0.0), (96, 0.0), (97, 0.0), (98, 0.0), (99, 0.0), (100, 0.0), (101, 0.0), (102, 0.0), (103, 0.0), (105, 0.0), (106, 0.0), (107, 0.0), (108, 0.0), (109, 0.0), (110, 0.0), (111, 0.0), (112, 0.0), (113, 0.0), (114, 0.0), (115, 0.0), (116, 0.0), (117, 0.0), (118, 0.0), (119, 0.0), (120, 0.0), (121, 0.0), (122, 0.0), (123, 0.0), (124, 0.0), (125, 0.0), (126, 0.0), (127, 0.0), (129, 0.0), (131, 0.0), (132, 0.0), (133, 0.0), (134, 0.0), (135, 0.0), (136, 0.0), (137, 0.0), (139, 0.0), (140, 0.0), (141, 0.0), (142, 0.0), (143, 0.0), (144, 0.0), (145, 0.0), (146, 0.0), (147, 0.0), (148, 0.0), (149, 0.0), (151, 0.0), (152, 0.0), (153, 0.0), (154, 0.0), (155, 0.0), (156, 0.0), (157, 0.0), (158, 0.0), (159, 0.0), (160, 0.0), (161, 0.0), (162, 0.0), (163, 0.0), (164, 0.0), (165, 0.0), (166, 0.0), (167, 0.0), (168, 0.0), (169, 0.0), (170, 0.0), (171, 0.0), (172, 0.0), (173, 0.0), (174, 0.0), (175, 0.0), (176, 0.0), (177, 0.0), (178, 0.0), (179, 0.0), (180, 0.0), (181, 0.0), (182, 0.0), (183, 0.0), (184, 0.0), (185, 0.0), (207, 0.0), (209, 0.0), (210, 0.0), (211, 0.0), (212, 0.0), (213, 0.0), (214, 0.0), (215, 0.0), (216, 0.0), (217, 0.0), (218, 0.0), (219, 0.0), (220, 0.0), (221, 0.0), (222, 0.0), (223, 0.0), (224, 0.0), (225, 0.0), (226, 0.0), (227, 0.0), (228, 0.0), (229, 0.0), (230, 0.0), (231, 0.0), (232, 0.0), (233, 0.0), (234, 0.0), (235, 0.0), (236, 0.0), (237, 0.0), (238, 0.0), (239, 0.0), (240, 0.0), (241, 0.0), (242, 0.0), (243, 0.0), (244, 0.0), (245, 0.0), (246, 0.0), (247, 0.0), (248, 0.0), (249, 0.0), (250, 0.0), (251, 0.0), (252, 0.0), (253, 0.0), (254, 0.0), (256, 0.0), (257, 0.0), (258, 0.0), (259, 0.0), (260, 0.0), (261, 0.0), (262, 0.0), (263, 0.0), (265, 0.0), (266, 0.0), (267, 0.0), (268, 0.0), (269, 0.0), (270, 0.0), (271, 0.0), (272, 0.0), (273, 0.0), (274, 0.0), (275, 0.0), (276, 0.0), (278, 0.0), (279, 0.0), (280, 0.0), (281, 0.0), (282, 0.0), (283, 0.0), (284, 0.0), (285, 0.0), (286, 0.0), (287, 0.0), (288, 0.0), (289, 0.0), (290, 0.0), (291, 0.0), (292, 0.0), (293, 0.0), (294, 0.0), (295, 0.0), (296, 0.0), (297, 0.0), (298, 0.0), (300, 0.0), (301, 0.0), (302, 0.0), (303, 0.0), (305, 0.0), (306, 0.0), (307, 0.0), (308, 0.0), (309, 0.0), (310, 0.0), (311, 0.0), (312, 0.0), (313, 0.0), (314, 0.0), (315, 0.0), (316, 0.0), (317, 0.0), (318, 0.0), (319, 0.0), (320, 0.0), (321, 0.0), (322, 0.0), (323, 0.0), (324, 0.0), (325, 0.0), (326, 0.0), (327, 0.0), (328, 0.0), (329, 0.0), (330, 0.0), (331, 0.0), (332, 0.0), (333, 0.0), (335, 0.0), (340, 0.0), (341, 0.0), (342, 0.0), (343, 0.0), (344, 0.0), (345, 0.0), (346, 0.0), (347, 0.0), (348, 0.0), (349, 0.0), (350, 0.0), (351, 0.0), (352, 0.0), (353, 0.0), (354, 0.0), (355, 0.0), (356, 0.0), (357, 0.0), (358, 0.0), (359, 0.0), (360, 0.0), (361, 0.0), (362, 0.0), (363, 0.0), (364, 0.0), (365, 0.0), (366, 0.0), (367, 0.0), (369, 0.0), (370, 0.0), (371, 0.0), (372, 0.0), (373, 0.0), (374, 0.0), (375, 0.0), (376, 0.0), (377, 0.0), (378, 0.0), (379, 0.0), (380, 0.0), (381, 0.0), (382, 0.0), (383, 0.0), (384, 0.0), (385, 0.0), (386, 0.0), (387, 0.0), (388, 0.0), (390, 0.0), (391, 0.0), (392, 0.0), (393, 0.0), (394, 0.0), (395, 0.0), (396, 0.0), (397, 0.0), (398, 0.0), (399, 0.0), (400, 0.0), (401, 0.0), (402, 0.0), (403, 0.0), (404, 0.0), (406, 0.0), (407, 0.0), (408, 0.0), (409, 0.0), (410, 0.0), (411, 0.0), (412, 0.0), (413, 0.0), (414, 0.0), (415, 0.0), (416, 0.0), (417, 0.0), (418, 0.0), (419, 0.0), (421, 0.0), (422, 0.0), (423, 0.0), (424, 0.0), (425, 0.0), (426, 0.0), (427, 0.0), (428, 0.0), (429, 0.0), (430, 0.0), (431, 0.0), (432, 0.0), (433, 0.0), (434, 0.0), (435, 0.0), (436, 0.0), (437, 0.0), (438, 0.0), (439, 0.0), (440, 0.0), (441, 0.0), (442, 0.0), (443, 0.0), (444, 0.0), (445, 0.0), (446, 0.0), (447, 0.0), (448, 0.0), (449, 0.0), (450, 0.0), (451, 0.0), (452, 0.0), (453, 0.0), (454, 0.0), (455, 0.0), (456, 0.0), (457, 0.0), (458, 0.0), (459, 0.0), (460, 0.0), (461, 0.0), (462, 0.0), (463, 0.0), (464, 0.0), (466, 0.0), (467, 0.0), (468, 0.0), (469, 0.0), (471, 0.0), (472, 0.0), (474, 0.0), (475, 0.0), (476, 0.0), (477, 0.0), (478, 0.0), (479, 0.0), (481, 0.0), (482, 0.0), (483, 0.0), (484, 0.0), (488, 0.0), (490, 0.0), (491, 0.0), (492, 0.0), (493, 0.0), (494, 0.0), (496, 0.0), (497, 0.0), (498, 0.0), (499, 0.0), (500, 0.0), (501, 0.0), (502, 0.0), (503, 0.0), (504, 0.0), (505, 0.0), (506, 0.0), (507, 0.0), (508, 0.0), (510, 0.0), (511, 0.0), (512, 0.0), (513, 0.0), (514, 0.0), (515, 0.0), (517, 0.0), (518, 0.0), (519, 0.0), (520, 0.0), (521, 0.0), (522, 0.0), (523, 0.0), (524, 0.0), (525, 0.0), (526, 0.0), (527, 0.0), (528, 0.0), (529, 0.0), (530, 0.0), (531, 0.0), (532, 0.0), (533, 0.0), (534, 0.0), (535, 0.0), (536, 0.0), (537, 0.0), (538, 0.0), (539, 0.0), (540, 0.0), (541, 0.0), (542, 0.0), (543, 0.0), (544, 0.0), (545, 0.0), (546, 0.0), (547, 0.0), (548, 0.0), (549, 0.0), (550, 0.0), (551, 0.0), (552, 0.0), (554, 0.0), (555, 0.0), (556, 0.0), (557, 0.0), (558, 0.0), (559, 0.0), (560, 0.0), (561, 0.0), (562, 0.0), (563, 0.0), (564, 0.0), (565, 0.0), (566, 0.0), (567, 0.0), (568, 0.0), (569, 0.0), (570, 0.0), (571, 0.0), (572, 0.0), (573, 0.0), (574, 0.0), (575, 0.0), (576, 0.0), (577, 0.0), (578, 0.0), (579, 0.0), (580, 0.0), (581, 0.0), (582, 0.0), (583, 0.0), (584, 0.0), (585, 0.0), (586, 0.0), (587, 0.0), (588, 0.0), (589, 0.0), (591, 0.0), (592, 0.0), (595, 0.0), (596, 0.0), (597, 0.0), (598, 0.0), (599, 0.0), (600, 0.0), (601, 0.0), (602, 0.0), (603, 0.0), (604, 0.0), (605, 0.0), (606, 0.0), (607, 0.0), (608, 0.0), (609, 0.0), (611, 0.0), (613, 0.0), (614, 0.0), (615, 0.0), (616, 0.0), (617, 0.0), (618, 0.0), (619, 0.0), (620, 0.0), (621, 0.0), (622, 0.0), (623, 0.0), (624, 0.0), (625, 0.0), (626, 0.0), (627, 0.0), (628, 0.0), (629, 0.0), (630, 0.0), (631, 0.0), (633, 0.0), (635, 0.0), (636, 0.0), (637, 0.0), (638, 0.0), (639, 0.0), (640, 0.0), (641, 0.0), (642, 0.0), (643, 0.0), (644, 0.0), (645, 0.0), (646, 0.0), (647, 0.0), (648, 0.0), (649, 0.0), (650, 0.0), (651, 0.0), (652, 0.0), (653, 0.0), (654, 0.0), (655, 0.0), (656, 0.0), (657, 0.0), (659, 0.0), (660, 0.0), (662, 0.0), (663, 0.0), (664, 0.0), (665, 0.0), (666, 0.0), (667, 0.0), (668, 0.0), (669, 0.0), (670, 0.0), (672, 0.0), (673, 0.0), (674, 0.0), (675, 0.0), (676, 0.0), (677, 0.0), (678, 0.0), (679, 0.0), (680, 0.0), (681, 0.0), (682, 0.0), (683, 0.0), (685, 0.0), (688, 0.0), (689, 0.0), (690, 0.0), (691, 0.0), (692, 0.0), (693, 0.0), (694, 0.0), (695, 0.0), (696, 0.0), (697, 0.0), (698, 0.0), (700, 0.0), (701, 0.0), (702, 0.0), (703, 0.0), (704, 0.0), (705, 0.0), (706, 0.0), (707, 0.0), (708, 0.0), (709, 0.0), (710, 0.0), (712, 0.0), (713, 0.0), (714, 0.0), (715, 0.0), (716, 0.0), (718, 0.0), (719, 0.0), (720, 0.0), (721, 0.0), (722, 0.0), (723, 0.0), (724, 0.0), (725, 0.0), (726, 0.0), (727, 0.0), (728, 0.0), (729, 0.0), (730, 0.0), (731, 0.0), (732, 0.0), (733, 0.0), (734, 0.0), (735, 0.0), (736, 0.0), (737, 0.0), (738, 0.0), (739, 0.0), (740, 0.0), (741, 0.0), (742, 0.0), (743, 0.0), (744, 0.0), (745, 0.0), (746, 0.0), (747, 0.0), (748, 0.0), (749, 0.0), (750, 0.0), (751, 0.0), (752, 0.0), (753, 0.0), (754, 0.0), (755, 0.0), (756, 0.0), (757, 0.0), (758, 0.0), (759, 0.0), (760, 0.0), (761, 0.0), (762, 0.0), (763, 0.0), (764, 0.0), (765, 0.0), (766, 0.0), (767, 0.0), (768, 0.0), (769, 0.0), (770, 0.0), (771, 0.0), (772, 0.0), (773, 0.0), (775, 0.0), (776, 0.0), (777, 0.0), (778, 0.0), (779, 0.0), (780, 0.0), (781, 0.0), (782, 0.0), (783, 0.0), (784, 0.0), (785, 0.0), (786, 0.0), (787, 0.0), (789, 0.0), (790, 0.0), (791, 0.0), (792, 0.0), (794, 0.0), (795, 0.0), (796, 0.0), (797, 0.0), (798, 0.0), (799, 0.0), (801, 0.0), (802, 0.0), (803, 0.0), (804, 0.0), (805, 0.0), (806, 0.0), (807, 0.0), (808, 0.0), (809, 0.0), (810, 0.0), (816, 0.0), (817, 0.0), (818, 0.0), (819, 0.0), (820, 0.0), (821, 0.0), (822, 0.0), (823, 0.0), (824, 0.0), (826, 0.0), (827, 0.0), (828, 0.0), (829, 0.0), (830, 0.0), (831, 0.0), (832, 0.0), (833, 0.0), (834, 0.0), (835, 0.0), (836, 0.0), (837, 0.0), (838, 0.0), (839, 0.0), (840, 0.0), (842, 0.0), (843, 0.0), (844, 0.0), (845, 0.0), (846, 0.0), (847, 0.0), (848, 0.0), (849, 0.0), (851, 0.0), (852, 0.0), (853, 0.0), (854, 0.0), (855, 0.0), (856, 0.0), (857, 0.0), (858, 0.0), (859, 0.0), (860, 0.0), (861, 0.0), (862, 0.0), (863, 0.0), (865, 0.0), (866, 0.0), (867, 0.0), (868, 0.0), (869, 0.0), (870, 0.0), (871, 0.0), (872, 0.0), (873, 0.0), (874, 0.0), (875, 0.0), (876, 0.0), (877, 0.0), (878, 0.0), (879, 0.0), (880, 0.0), (881, 0.0), (882, 0.0), (883, 0.0), (884, 0.0), (885, 0.0), (886, 0.0), (887, 0.0), (888, 0.0), (889, 0.0), (890, 0.0)]\n"
          ]
        },
        {
          "output_type": "execute_result",
          "data": {
            "text/plain": [
              "[['What is Data Science?', 4.7, '260k', 'COURSE'],\n",
              " ['Applied Data Science', 4.6, '220k', 'SPECIALIZATION'],\n",
              " ['Data Science Methodology', 4.6, '89k', 'COURSE'],\n",
              " ['Introduction to Data Science', 4.6, '310k', 'SPECIALIZATION']]"
            ]
          },
          "metadata": {},
          "execution_count": 11
        }
      ]
    }
  ]
}